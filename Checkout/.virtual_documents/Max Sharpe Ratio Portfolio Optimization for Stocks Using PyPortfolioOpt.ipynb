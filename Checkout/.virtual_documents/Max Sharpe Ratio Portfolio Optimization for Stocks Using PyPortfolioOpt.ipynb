


import plotly.express as px
import matplotlib.pyplot as plt
import seaborn as sns

from pandas_datareader.data import DataReader
import yfinance as yf
from pypfopt.discrete_allocation import DiscreteAllocation, get_latest_prices
from pypfopt import EfficientFrontier
from pypfopt import risk_models
from pypfopt import expected_returns
from pypfopt import plotting
import copy
import numpy as np
import pandas as pd





start_date = '2018-05-18' 
end_date = '2023-12-27'

stocks_df = pd.read_csv('res.csv', index_col=False)
stocks_df['Date'] = pd.to_datetime(stocks_df['Date'], format='%Y-%m-%d')
stocks_df = stocks_df.set_index('Date')
tickers = stocks_df.columns.tolist()
print(len(tickers))
stocks_df.head()





fig_price = px.line(stocks_df, title='Price of Individual Stocks')
fig_price.show()








daily_returns = stocks_df.pct_change().dropna()
daily_returns.head()





fig = px.line(daily_returns[['VHM', 'HDB', 'DBC']], title='Daily Returns')
fig.show()





daily_returns.std()





sns.displot(data=daily_returns[['VHM', 'HDB', 'DBC']], kind = 'kde', aspect = 2.5)
plt.xlim(-0.1, 0.1)








def plot_cum_returns(data, title):    
    daily_cum_returns = (1 + daily_returns).cumprod()*100
    fig = px.line(daily_cum_returns, title=title)
    return fig
    
fig_cum_returns = plot_cum_returns(stocks_df, 'Cumulative Returns of Individual Stocks Starting with $100')
fig_cum_returns.show()





corr_df = stocks_df.corr().round(2) # round to 2 decimal places
fig_corr = px.imshow(corr_df, text_auto=True, title = 'Correlation between Stocks')
fig_corr.show()








stocks_df


# Calculate expected returns and sample covariance matrix
mu = expected_returns.mean_historical_return(stocks_df)
S = risk_models.sample_cov(stocks_df)

print(mu)





def plot_efficient_frontier_and_max_sharpe(mu, S):  
    # Optimize portfolio for maximal Sharpe ratio 
    ef = EfficientFrontier(mu, S)

    fig, ax = plt.subplots(figsize=(8,6))
    ef_max_sharpe = copy.deepcopy(ef)
    plotting.plot_efficient_frontier(ef, ax=ax, show_assets=False)

    # Find the max sharpe portfolio
    ef_max_sharpe.max_sharpe(risk_free_rate=0.02)
    ret_tangent, std_tangent, _ = ef_max_sharpe.portfolio_performance()
    ax.scatter(std_tangent, ret_tangent, marker="*", s=100, c="r", label="Max Sharpe")

    # Generate random portfolios
    n_samples = 1000
    w = np.random.dirichlet(np.ones(ef.n_assets), n_samples)
    rets = w.dot(ef.expected_returns)
    stds = np.sqrt(np.diag(w @ ef.cov_matrix @ w.T))
    sharpes = rets / stds
    ax.scatter(stds, rets, marker=".", c=sharpes, cmap="viridis_r")

    # Output
    ax.set_title("Efficient Frontier with Random Portfolios")
    ax.legend()
    plt.tight_layout()
    plt.show()
    
plot_efficient_frontier_and_max_sharpe(mu, S)








ef = EfficientFrontier(mu, S)
ef.max_sharpe(risk_free_rate=0.05)
weights = ef.clean_weights()
print(weights)


weights_df = pd.DataFrame.from_dict(weights, orient = 'index')
weights_df.columns = ['weights']
weights_df

weights1 = weights_df[weights_df['weights'] > 0]
weights1


plt.figure(figsize=(10,10))
plt.pie(weights1['weights'], labels=weights1.index)


weights1.reset_index()


weights1 = weights1.reset_index().rename(columns={'index':'ticker', 'weights':'weight'})
weights1.to_csv('max_sharpe_weights.csv', index=False)








expected_annual_return, annual_volatility, sharpe_ratio = ef.portfolio_performance()

print('Expected annual return: {}%'.format((expected_annual_return*100).round(2)))
print('Annual volatility: {}%'.format((annual_volatility*100).round(2)))
print('Sharpe ratio: {}'.format(sharpe_ratio.round(2)))





stocks_df['Optimized Portfolio'] = 0

for ticker, weight in weights.items():
    stocks_df['Optimized Portfolio'] += stocks_df[ticker]*weight

stocks_df.head()





stocks_df['Optimized Portfolio'].diff().plot()


fig_cum_returns_optimized = plot_cum_returns(stocks_df['Optimized Portfolio'], 'Cumulative Returns of Optimized Portfolio Starting with $100')
fig_cum_returns_optimized.show()









