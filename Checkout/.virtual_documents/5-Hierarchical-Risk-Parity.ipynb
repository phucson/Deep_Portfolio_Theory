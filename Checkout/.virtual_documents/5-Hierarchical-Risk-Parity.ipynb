





!pip install pandas numpy matplotlib yfinance PyPortfolioOpt
import os
if not os.path.isdir('data'):
    os.system('git clone https://github.com/robertmartin8/PyPortfolioOpt.git')
    os.chdir('PyPortfolioOpt/cookbook')


import numpy as np
import pandas as pd
import matplotlib.pyplot as plt
import yfinance as yf
import pypfopt

pypfopt.__version__


start_date = '2018-05-18' 
end_date = '2023-12-27'

stocks_df = pd.read_csv('res.csv', index_col=False)
stocks_df['Date'] = pd.to_datetime(stocks_df['Date'], format='%Y-%m-%d')
stocks_df = stocks_df.set_index('Date')
tickers = stocks_df.columns.tolist()
print(tickers)
stocks_df.head()

prices = stocks_df


from pypfopt import expected_returns

rets = expected_returns.returns_from_prices(prices)
rets.tail()





from pypfopt import HRPOpt


hrp = HRPOpt(rets)
hrp.optimize()
weights = hrp.clean_weights()
weights = sorted(weights.items(), key=lambda t: t[1], reverse=True)
weights


pd.Series(hrp.clean_weights()).plot.pie(figsize=(10, 10));


w = pd.DataFrame(weights, columns=['ticker', 'weight'])


w.to_csv('HRP_weights.csv', index=False)


hrp.portfolio_performance(verbose=True);





from pypfopt import plotting

plotting.plot_dendrogram(hrp); 





dir(hrp)


len(hrp.tickers)



